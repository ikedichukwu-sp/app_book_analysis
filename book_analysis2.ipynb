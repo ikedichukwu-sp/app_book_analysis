{
 "cells": [
  {
   "cell_type": "code",
   "execution_count": 143,
   "id": "ae0cd260-53e1-4f29-ab2c-3f2168cfad5c",
   "metadata": {},
   "outputs": [],
   "source": [
    "with open(\"miracle_in_the_andes.txt\", \"r\", encoding=\"utf-8\") as file:\n",
    "    book = file.read()"
   ]
  },
  {
   "cell_type": "code",
   "execution_count": 144,
   "id": "6d83a64c-1517-480e-9893-8bb036d025d4",
   "metadata": {},
   "outputs": [],
   "source": [
    "import re"
   ]
  },
  {
   "cell_type": "markdown",
   "id": "4b732de8-0c16-4682-87f9-a3c802e43392",
   "metadata": {},
   "source": [
    "## extract thew paragragh where \"love\" was used"
   ]
  },
  {
   "cell_type": "code",
   "execution_count": 176,
   "id": "6676ec62-c32d-468a-8ed8-f6e1eafa4e36",
   "metadata": {},
   "outputs": [
    {
     "data": {
      "text/plain": [
       "['To me, this is the essence of rugby. No other sport gives you such an intense sense of selflessness and unified purpose. I believe this is why rugby players all over the world feel such a passion for the game and such a feeling of brotherhood. As a young man, of course, I could not put these things into words, but I knew, and my teammates knew, that there was something special about the game, and under the guidance of the Christian Brothers we developed a passionate love for the sport that shaped our friendships and our lives.',\n",
       " 'There were others—Alexis Hounie, Gastón Costemalle, Daniel Shaw—all of them great players and all of them my friends. But my oldest friend was Guido Magri. He and I had met on my first day at the Stella Maris School—I was eight years old and Guido was one year older—and we had been inseparable ever since. Guido and I grew up together, playing soccer and sharing a love of motorcycles, cars, and auto racing. When I was fifteen we both had mopeds that we had modified in silly ways—removing the mufflers, turn signals, and fenders—and we would ride them to Las Delicias, a famous ice cream parlor in our neighborhood, where we would drool over the girls from the nearby School Sagrado Corazón, hoping to impress them with our souped-up scooters. Guido was a dependable friend, with a good sense of humor and an easy laugh. He was also an outstanding scrum half, as quick and smart as a fox, with good hands and great courage. Under the guidance of the Christian Brothers, both of us grew to love the game of rugby with a consuming passion. As seasons passed we worked hard to improve our skills, and by the time I was fifteen we had each earned a spot on the Stella Maris First XV, the team’s starting lineup. After graduation, both of us went on to join the Old Christians and spent several happy seasons pursuing the high-octane social life of young rugby players. That rowdiness came to an abrupt end for Guido in 1969, when he met and fell in love with the beautiful daughter of a Chilean diplomat.']"
      ]
     },
     "execution_count": 176,
     "metadata": {},
     "output_type": "execute_result"
    }
   ],
   "source": [
    "pattern = re.compile(r\"[^\\n]+[a-zA-Z]* love [a-zA-Z]* [^.]*\\.\")\n",
    "findings = re.findall(pattern, book)\n",
    "findings[0:2]\n"
   ]
  },
  {
   "cell_type": "markdown",
   "id": "7c89fd49-29a7-4cd7-b1e2-d193aeb3f59e",
   "metadata": {},
   "source": [
    "## Extract the chapter titles"
   ]
  },
  {
   "cell_type": "code",
   "execution_count": 93,
   "id": "1da16bff-2bba-4b8e-bc9a-0a1bea32f2a9",
   "metadata": {},
   "outputs": [
    {
     "data": {
      "text/plain": [
       "['Before',\n",
       " 'Everything Precious',\n",
       " 'A Promise',\n",
       " 'Breathe Once More',\n",
       " 'Abandoned',\n",
       " 'Tomb',\n",
       " 'East',\n",
       " 'The Opposite of Death',\n",
       " 'I See a Man',\n",
       " 'After']"
      ]
     },
     "execution_count": 93,
     "metadata": {},
     "output_type": "execute_result"
    }
   ],
   "source": [
    "pattern = re.compile(r\"\\n\\n([A-Za-z]+(?:\\s+[A-Za-z]+)*)\\n\\n\")\n",
    "findings = re.findall(pattern, book)\n",
    "findings"
   ]
  },
  {
   "cell_type": "markdown",
   "id": "9477778f-bd9b-4f9b-9a6f-43ac370ebd95",
   "metadata": {},
   "source": [
    "## function that finds the occurence of any word"
   ]
  },
  {
   "cell_type": "code",
   "execution_count": null,
   "id": "9522f3fd-9530-4df4-94c4-76749a7ed075",
   "metadata": {},
   "outputs": [],
   "source": []
  },
  {
   "cell_type": "code",
   "execution_count": 172,
   "id": "7d2e95c5-ec0a-4f01-8660-42dc22104743",
   "metadata": {},
   "outputs": [],
   "source": [
    "def extract(w):\n",
    "    pattern = re.compile(\"[a-zA-Z]+\")\n",
    "    findings = re.findall(pattern, book.lower())\n",
    "    \n",
    "    b = {}\n",
    "    \n",
    "    for word in findings:\n",
    "        if word in b.keys():\n",
    "            b[word] = b[word] + 1\n",
    "        else:\n",
    "            b[word] = 1\n",
    "    # d_list = [(value, key) for (key, value) in b.items()]\n",
    "    # x = sorted(d_list, reverse=True)\n",
    "    try: \n",
    "        return b[w]\n",
    "    except:\n",
    "        return f'the book does not contain the word \"{w}\"'"
   ]
  },
  {
   "cell_type": "code",
   "execution_count": 173,
   "id": "ffcbb023-e368-4378-b3d0-bd065a063715",
   "metadata": {},
   "outputs": [
    {
     "data": {
      "text/plain": [
       "83"
      ]
     },
     "execution_count": 173,
     "metadata": {},
     "output_type": "execute_result"
    }
   ],
   "source": [
    "extract(\"love\")"
   ]
  },
  {
   "cell_type": "code",
   "execution_count": 174,
   "id": "8879b81a-d3a9-455f-b1b8-a8f7d46a1a44",
   "metadata": {},
   "outputs": [
    {
     "data": {
      "text/plain": [
       "5346"
      ]
     },
     "execution_count": 174,
     "metadata": {},
     "output_type": "execute_result"
    }
   ],
   "source": [
    "extract(\"the\")"
   ]
  },
  {
   "cell_type": "code",
   "execution_count": 102,
   "id": "515f71fb-dce1-4e58-a485-c9617424ceef",
   "metadata": {},
   "outputs": [
    {
     "data": {
      "text/plain": [
       "['chapter', 'before', 'it', 'was', 'friday']"
      ]
     },
     "execution_count": 102,
     "metadata": {},
     "output_type": "execute_result"
    }
   ],
   "source": [
    "pattern = re.compile(\"[a-zA-Z]+\")\n",
    "findings = re.findall(pattern, book.lower())\n",
    "findings[0:5]"
   ]
  },
  {
   "cell_type": "code",
   "execution_count": 106,
   "id": "56e5d86b-8bbd-4a2f-afc8-60160239b62b",
   "metadata": {},
   "outputs": [],
   "source": [
    "\n",
    "b = {}\n",
    "for word in findings:\n",
    "    if word in b.keys():\n",
    "        b[word] = b[word] + 1\n",
    "    else:\n",
    "        b[word] = 1"
   ]
  },
  {
   "cell_type": "code",
   "execution_count": 140,
   "id": "fb4399b9-6035-48bd-a8bc-0d8d2c5f8a50",
   "metadata": {},
   "outputs": [
    {
     "data": {
      "text/plain": [
       "[(5346, 'the'), (2795, 'and'), (2729, 'i'), (2400, 'to'), (2060, 'of')]"
      ]
     },
     "execution_count": 140,
     "metadata": {},
     "output_type": "execute_result"
    }
   ],
   "source": [
    "d_list = [(value, key) for (key, value) in b.items()]\n",
    "sorted(d_list, reverse=True)[0:5]"
   ]
  }
 ],
 "metadata": {
  "kernelspec": {
   "display_name": "Python 3 (ipykernel)",
   "language": "python",
   "name": "python3"
  },
  "language_info": {
   "codemirror_mode": {
    "name": "ipython",
    "version": 3
   },
   "file_extension": ".py",
   "mimetype": "text/x-python",
   "name": "python",
   "nbconvert_exporter": "python",
   "pygments_lexer": "ipython3",
   "version": "3.11.4"
  }
 },
 "nbformat": 4,
 "nbformat_minor": 5
}
